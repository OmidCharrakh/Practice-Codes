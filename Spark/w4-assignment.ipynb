{
 "cells": [
  {
   "cell_type": "markdown",
   "metadata": {},
   "source": [
    "Welcome to the final project of  “Apache Spark for Scalable Machine Learning on BigData”. In this assignment you’ll analyze a real-world dataset and apply machine learning on it using Apache Spark. \n",
    "\n",
    "In order to pass, you need to implement some code (as described in the instruction section on Coursera) and finally answer a quiz on the Coursera platform.\n"
   ]
  },
  {
   "cell_type": "markdown",
   "metadata": {},
   "source": [
    "This notebook is designed to run in a IBM Watson Studio default runtime (NOT the Watson Studio Apache Spark Runtime as the default runtime with 1 vCPU is free of charge). Therefore, we install Apache Spark in local mode for test purposes only. Please don't use it in production.\n",
    "\n",
    "In case you are facing issues, please read the following two documents first:\n",
    "\n",
    "https://github.com/IBM/skillsnetwork/wiki/Environment-Setup\n",
    "\n",
    "https://github.com/IBM/skillsnetwork/wiki/FAQ\n",
    "\n",
    "Then, please feel free to ask:\n",
    "\n",
    "https://coursera.org/learn/machine-learning-big-data-apache-spark/discussions/all\n",
    "\n",
    "Please make sure to follow the guidelines before asking a question:\n",
    "\n",
    "https://github.com/IBM/skillsnetwork/wiki/FAQ#im-feeling-lost-and-confused-please-help-me\n",
    "\n",
    "\n",
    "If running outside Watson Studio, this should work as well. In case you are running in an Apache Spark context outside Watson Studio, please remove the Apache Spark setup in the first notebook cells."
   ]
  },
  {
   "cell_type": "code",
   "execution_count": 1,
   "metadata": {},
   "outputs": [],
   "source": [
    "from IPython.display import Markdown, display\n",
    "def printmd(string):\n",
    "    display(Markdown('# <span style=\"color:red\">'+string+'</span>'))\n",
    "\n",
    "\n",
    "if ('sc' in locals() or 'sc' in globals()):\n",
    "    printmd('<<<<<!!!!! It seems that you are running in a IBM Watson Studio Apache Spark Notebook. Please run it in an IBM Watson Studio Default Runtime (without Apache Spark) !!!!!>>>>>')\n"
   ]
  },
  {
   "cell_type": "code",
   "execution_count": 2,
   "metadata": {},
   "outputs": [
    {
     "name": "stdout",
     "output_type": "stream",
     "text": [
      "Requirement already satisfied: pyspark==2.4.5 in /opt/anaconda3/lib/python3.7/site-packages (2.4.5)\r\n",
      "Requirement already satisfied: py4j==0.10.7 in /opt/anaconda3/lib/python3.7/site-packages (from pyspark==2.4.5) (0.10.7)\r\n"
     ]
    }
   ],
   "source": [
    "!pip install pyspark==2.4.5"
   ]
  },
  {
   "cell_type": "code",
   "execution_count": 3,
   "metadata": {},
   "outputs": [],
   "source": [
    "try:\n",
    "    from pyspark import SparkContext, SparkConf\n",
    "    from pyspark.sql import SparkSession\n",
    "except ImportError as e:\n",
    "    printmd('<<<<<!!!!! Please restart your kernel after installing Apache Spark !!!!!>>>>>')"
   ]
  },
  {
   "cell_type": "code",
   "execution_count": 4,
   "metadata": {},
   "outputs": [],
   "source": [
    "sc = SparkContext.getOrCreate(SparkConf().setMaster(\"local[*]\"))\n",
    "\n",
    "spark = SparkSession \\\n",
    "    .builder \\\n",
    "    .getOrCreate()"
   ]
  },
  {
   "cell_type": "markdown",
   "metadata": {},
   "source": [
    "Let’s start by downloading the dataset and creating a dataframe. This dataset can be found on DAX, the IBM Data Asset Exchange and can be downloaded for free.\n",
    "\n",
    "https://developer.ibm.com/exchanges/data/all/jfk-weather-data/"
   ]
  },
  {
   "cell_type": "code",
   "execution_count": 5,
   "metadata": {},
   "outputs": [
    {
     "name": "stdout",
     "output_type": "stream",
     "text": [
      "--2020-08-10 00:45:10--  http://max-training-data.s3-api.us-geo.objectstorage.softlayer.net/noaa-weather/jfk_weather.tar.gz\n",
      "Resolving max-training-data.s3-api.us-geo.objectstorage.softlayer.net (max-training-data.s3-api.us-geo.objectstorage.softlayer.net)... 67.228.254.196\n",
      "Connecting to max-training-data.s3-api.us-geo.objectstorage.softlayer.net (max-training-data.s3-api.us-geo.objectstorage.softlayer.net)|67.228.254.196|:80... connected.\n",
      "HTTP request sent, awaiting response... 200 OK\n",
      "Length: 2575759 (2.5M) [application/x-tar]\n",
      "Saving to: ‘jfk_weather.tar.gz’\n",
      "\n",
      "jfk_weather.tar.gz  100%[===================>]   2.46M   708KB/s    in 3.6s    \n",
      "\n",
      "2020-08-10 00:45:15 (708 KB/s) - ‘jfk_weather.tar.gz’ saved [2575759/2575759]\n",
      "\n",
      "x ./._jfk_weather.csv\n",
      "x jfk_weather.csv\n"
     ]
    }
   ],
   "source": [
    "# delete files from previous runs\n",
    "!rm -f jfk_weather*\n",
    "\n",
    "# download the file containing the data in CSV format\n",
    "!wget http://max-training-data.s3-api.us-geo.objectstorage.softlayer.net/noaa-weather/jfk_weather.tar.gz\n",
    "\n",
    "# extract the data\n",
    "!tar xvfz jfk_weather.tar.gz\n",
    "    \n",
    "# create a dataframe out of it by using the first row as field names and trying to infer a schema based on contents\n",
    "df = spark.read.option(\"header\", \"true\").option(\"inferSchema\",\"true\").csv('jfk_weather.csv')\n",
    "\n",
    "# register a corresponding query table\n",
    "df.createOrReplaceTempView('df')"
   ]
  },
  {
   "cell_type": "markdown",
   "metadata": {},
   "source": [
    "The dataset contains some null values, therefore schema inference didn’t work properly for all columns, in addition, a column contained trailing characters, so we need to clean up the data set first. This is a normal task in any data science project since your data is never clean, don’t worry if you don’t understand all code, you won’t be asked about it. "
   ]
  },
  {
   "cell_type": "code",
   "execution_count": 30,
   "metadata": {},
   "outputs": [
    {
     "data": {
      "text/plain": [
       "[Row(STATION='WBAN:94789', STATION_NAME='JFK INTERNATIONAL AIRPORT NY US', ELEVATION=3.4, LATITUDE=40.6386, LONGITUDE=-73.7622, DATE='2010-01-01 00:51', REPORTTPYE='FM-15', HOURLYSKYCONDITIONS='FEW:02 7 SCT:04 13 BKN:07 29', HOURLYVISIBILITY='6.00', HOURLYPRSENTWEATHERTYPE='-RA:02 PL:06 BR:1 |RA:61 PL:74 |RA:61 PL:79', HOURLYDRYBULBTEMPF='33', HOURLYDRYBULBTEMPC='0.6', HOURLYWETBULBTEMPF='32', HOURLYWETBULBTEMPC='0.1', HOURLYDewPointTempF='31', HOURLYDewPointTempC='-0.6', HOURLYRelativeHumidity='92', HOURLYWindSpeed='0', HOURLYWindDirection='000', HOURLYWindGustSpeed=None, HOURLYStationPressure='29.97', HOURLYPressureTendency=8, HOURLYPressureChange=None, HOURLYSeaLevelPressure='29.99', HOURLYPrecip='0.01', HOURLYAltimeterSetting='29.99', DAILYMaximumDryBulbTemp=None, DAILYMinimumDryBulbTemp=None, DAILYAverageDryBulbTemp=None, DAILYDeptFromNormalAverageTemp=None, DAILYAverageRelativeHumidity=None, DAILYAverageDewPointTemp=None, DAILYAverageWetBulbTemp=None, DAILYHeatingDegreeDays=None, DAILYCoolingDegreeDays=None, DAILYSunrise=719, DAILYSunset=1639, DAILYWeather=None, DAILYPrecip=None, DAILYSnowfall=None, DAILYSnowDepth=None, DAILYAverageStationPressure=None, DAILYAverageSeaLevelPressure=None, DAILYAverageWindSpeed=None, DAILYPeakWindSpeed=None, PeakWindDirection=None, DAILYSustainedWindSpeed=None, DAILYSustainedWindDirection=None, MonthlyMaximumTemp=None, MonthlyMinimumTemp=None, MonthlyMeanTemp=None, MonthlyAverageRH=None, MonthlyDewpointTemp=None, MonthlyWetBulbTemp=None, MonthlyAvgHeatingDegreeDays=None, MonthlyAvgCoolingDegreeDays=None, MonthlyStationPressure=None, MonthlySeaLevelPressure=None, MonthlyAverageWindSpeed=None, MonthlyTotalSnowfall=None, MonthlyDeptFromNormalMaximumTemp=None, MonthlyDeptFromNormalMinimumTemp=None, MonthlyDeptFromNormalAverageTemp=None, MonthlyDeptFromNormalPrecip=None, MonthlyTotalLiquidPrecip=None, MonthlyGreatestPrecip=None, MonthlyGreatestPrecipDate=None, MonthlyGreatestSnowfall=None, MonthlyGreatestSnowfallDate=None, MonthlyGreatestSnowDepth=None, MonthlyGreatestSnowDepthDate=None, MonthlyDaysWithGT90Temp=None, MonthlyDaysWithLT32Temp=None, MonthlyDaysWithGT32Temp=None, MonthlyDaysWithLT0Temp=None, MonthlyDaysWithGT001Precip=None, MonthlyDaysWithGT010Precip=None, MonthlyDaysWithGT1Snow=None, MonthlyMaxSeaLevelPressureValue=None, MonthlyMaxSeaLevelPressureDate=-9999, MonthlyMaxSeaLevelPressureTime=-9999, MonthlyMinSeaLevelPressureValue=None, MonthlyMinSeaLevelPressureDate=-9999, MonthlyMinSeaLevelPressureTime=-9999, MonthlyTotalHeatingDegreeDays=None, MonthlyTotalCoolingDegreeDays=None, MonthlyDeptFromNormalHeatingDD=None, MonthlyDeptFromNormalCoolingDD=None, MonthlyTotalSeasonToDateHeatingDD=None, MonthlyTotalSeasonToDateCoolingDD=None),\n",
       " Row(STATION='WBAN:94789', STATION_NAME='JFK INTERNATIONAL AIRPORT NY US', ELEVATION=3.4, LATITUDE=40.6386, LONGITUDE=-73.7622, DATE='2010-01-01 01:00', REPORTTPYE='FM-12', HOURLYSKYCONDITIONS=None, HOURLYVISIBILITY='5.59', HOURLYPRSENTWEATHERTYPE='||PL:79', HOURLYDRYBULBTEMPF='33', HOURLYDRYBULBTEMPC='0.6', HOURLYWETBULBTEMPF='32', HOURLYWETBULBTEMPC='0.1', HOURLYDewPointTempF='31', HOURLYDewPointTempC='-0.6', HOURLYRelativeHumidity='92', HOURLYWindSpeed='0', HOURLYWindDirection='000', HOURLYWindGustSpeed=None, HOURLYStationPressure='29.96', HOURLYPressureTendency=8, HOURLYPressureChange='+0.05', HOURLYSeaLevelPressure='29.99', HOURLYPrecip=None, HOURLYAltimeterSetting=None, DAILYMaximumDryBulbTemp=34, DAILYMinimumDryBulbTemp=30, DAILYAverageDryBulbTemp=32, DAILYDeptFromNormalAverageTemp=-1.7, DAILYAverageRelativeHumidity=None, DAILYAverageDewPointTemp=None, DAILYAverageWetBulbTemp=None, DAILYHeatingDegreeDays=33, DAILYCoolingDegreeDays=0, DAILYSunrise=719, DAILYSunset=1639, DAILYWeather=None, DAILYPrecip=None, DAILYSnowfall=None, DAILYSnowDepth=None, DAILYAverageStationPressure=None, DAILYAverageSeaLevelPressure=None, DAILYAverageWindSpeed=None, DAILYPeakWindSpeed=None, PeakWindDirection=None, DAILYSustainedWindSpeed=None, DAILYSustainedWindDirection=None, MonthlyMaximumTemp=None, MonthlyMinimumTemp=None, MonthlyMeanTemp=None, MonthlyAverageRH=None, MonthlyDewpointTemp=None, MonthlyWetBulbTemp=None, MonthlyAvgHeatingDegreeDays=None, MonthlyAvgCoolingDegreeDays=None, MonthlyStationPressure=None, MonthlySeaLevelPressure=None, MonthlyAverageWindSpeed=None, MonthlyTotalSnowfall=None, MonthlyDeptFromNormalMaximumTemp=None, MonthlyDeptFromNormalMinimumTemp=None, MonthlyDeptFromNormalAverageTemp=None, MonthlyDeptFromNormalPrecip=None, MonthlyTotalLiquidPrecip=None, MonthlyGreatestPrecip=None, MonthlyGreatestPrecipDate=None, MonthlyGreatestSnowfall=None, MonthlyGreatestSnowfallDate=None, MonthlyGreatestSnowDepth=None, MonthlyGreatestSnowDepthDate=None, MonthlyDaysWithGT90Temp=None, MonthlyDaysWithLT32Temp=None, MonthlyDaysWithGT32Temp=None, MonthlyDaysWithLT0Temp=None, MonthlyDaysWithGT001Precip=None, MonthlyDaysWithGT010Precip=None, MonthlyDaysWithGT1Snow=None, MonthlyMaxSeaLevelPressureValue=None, MonthlyMaxSeaLevelPressureDate=-9999, MonthlyMaxSeaLevelPressureTime=-9999, MonthlyMinSeaLevelPressureValue=None, MonthlyMinSeaLevelPressureDate=-9999, MonthlyMinSeaLevelPressureTime=-9999, MonthlyTotalHeatingDegreeDays=None, MonthlyTotalCoolingDegreeDays=None, MonthlyDeptFromNormalHeatingDD=None, MonthlyDeptFromNormalCoolingDD=None, MonthlyTotalSeasonToDateHeatingDD=None, MonthlyTotalSeasonToDateCoolingDD=None),\n",
       " Row(STATION='WBAN:94789', STATION_NAME='JFK INTERNATIONAL AIRPORT NY US', ELEVATION=3.4, LATITUDE=40.6386, LONGITUDE=-73.7622, DATE='2010-01-01 01:51', REPORTTPYE='FM-15', HOURLYSKYCONDITIONS='FEW:02 6 SCT:04 13 OVC:08 35', HOURLYVISIBILITY='6.00', HOURLYPRSENTWEATHERTYPE='-RA:02 PL:06 BR:1 |RA:61 PL:74 |RA:61 PL:79', HOURLYDRYBULBTEMPF='33', HOURLYDRYBULBTEMPC='0.6', HOURLYWETBULBTEMPF='33', HOURLYWETBULBTEMPC='0.3', HOURLYDewPointTempF='32', HOURLYDewPointTempC='0.0', HOURLYRelativeHumidity='96', HOURLYWindSpeed='0', HOURLYWindDirection='000', HOURLYWindGustSpeed=None, HOURLYStationPressure='29.97', HOURLYPressureTendency=None, HOURLYPressureChange=None, HOURLYSeaLevelPressure='29.99', HOURLYPrecip='0.02', HOURLYAltimeterSetting='29.99', DAILYMaximumDryBulbTemp=None, DAILYMinimumDryBulbTemp=None, DAILYAverageDryBulbTemp=None, DAILYDeptFromNormalAverageTemp=None, DAILYAverageRelativeHumidity=None, DAILYAverageDewPointTemp=None, DAILYAverageWetBulbTemp=None, DAILYHeatingDegreeDays=None, DAILYCoolingDegreeDays=None, DAILYSunrise=719, DAILYSunset=1639, DAILYWeather=None, DAILYPrecip=None, DAILYSnowfall=None, DAILYSnowDepth=None, DAILYAverageStationPressure=None, DAILYAverageSeaLevelPressure=None, DAILYAverageWindSpeed=None, DAILYPeakWindSpeed=None, PeakWindDirection=None, DAILYSustainedWindSpeed=None, DAILYSustainedWindDirection=None, MonthlyMaximumTemp=None, MonthlyMinimumTemp=None, MonthlyMeanTemp=None, MonthlyAverageRH=None, MonthlyDewpointTemp=None, MonthlyWetBulbTemp=None, MonthlyAvgHeatingDegreeDays=None, MonthlyAvgCoolingDegreeDays=None, MonthlyStationPressure=None, MonthlySeaLevelPressure=None, MonthlyAverageWindSpeed=None, MonthlyTotalSnowfall=None, MonthlyDeptFromNormalMaximumTemp=None, MonthlyDeptFromNormalMinimumTemp=None, MonthlyDeptFromNormalAverageTemp=None, MonthlyDeptFromNormalPrecip=None, MonthlyTotalLiquidPrecip=None, MonthlyGreatestPrecip=None, MonthlyGreatestPrecipDate=None, MonthlyGreatestSnowfall=None, MonthlyGreatestSnowfallDate=None, MonthlyGreatestSnowDepth=None, MonthlyGreatestSnowDepthDate=None, MonthlyDaysWithGT90Temp=None, MonthlyDaysWithLT32Temp=None, MonthlyDaysWithGT32Temp=None, MonthlyDaysWithLT0Temp=None, MonthlyDaysWithGT001Precip=None, MonthlyDaysWithGT010Precip=None, MonthlyDaysWithGT1Snow=None, MonthlyMaxSeaLevelPressureValue=None, MonthlyMaxSeaLevelPressureDate=-9999, MonthlyMaxSeaLevelPressureTime=-9999, MonthlyMinSeaLevelPressureValue=None, MonthlyMinSeaLevelPressureDate=-9999, MonthlyMinSeaLevelPressureTime=-9999, MonthlyTotalHeatingDegreeDays=None, MonthlyTotalCoolingDegreeDays=None, MonthlyDeptFromNormalHeatingDD=None, MonthlyDeptFromNormalCoolingDD=None, MonthlyTotalSeasonToDateHeatingDD=None, MonthlyTotalSeasonToDateCoolingDD=None),\n",
       " Row(STATION='WBAN:94789', STATION_NAME='JFK INTERNATIONAL AIRPORT NY US', ELEVATION=3.4, LATITUDE=40.6386, LONGITUDE=-73.7622, DATE='2010-01-01 02:03', REPORTTPYE='FM-16', HOURLYSKYCONDITIONS='FEW:02 6 SCT:04 13 OVC:08 35', HOURLYVISIBILITY='6.00', HOURLYPRSENTWEATHERTYPE='-RA:02 BR:1 |RA:61 |RA:61', HOURLYDRYBULBTEMPF='34', HOURLYDRYBULBTEMPC='1.0', HOURLYWETBULBTEMPF='33', HOURLYWETBULBTEMPC='0.7', HOURLYDewPointTempF='32', HOURLYDewPointTempC='0.0', HOURLYRelativeHumidity='93', HOURLYWindSpeed='0', HOURLYWindDirection='000', HOURLYWindGustSpeed=None, HOURLYStationPressure='29.97', HOURLYPressureTendency=None, HOURLYPressureChange=None, HOURLYSeaLevelPressure=None, HOURLYPrecip='T', HOURLYAltimeterSetting='29.99', DAILYMaximumDryBulbTemp=None, DAILYMinimumDryBulbTemp=None, DAILYAverageDryBulbTemp=None, DAILYDeptFromNormalAverageTemp=None, DAILYAverageRelativeHumidity=None, DAILYAverageDewPointTemp=None, DAILYAverageWetBulbTemp=None, DAILYHeatingDegreeDays=None, DAILYCoolingDegreeDays=None, DAILYSunrise=719, DAILYSunset=1639, DAILYWeather=None, DAILYPrecip=None, DAILYSnowfall=None, DAILYSnowDepth=None, DAILYAverageStationPressure=None, DAILYAverageSeaLevelPressure=None, DAILYAverageWindSpeed=None, DAILYPeakWindSpeed=None, PeakWindDirection=None, DAILYSustainedWindSpeed=None, DAILYSustainedWindDirection=None, MonthlyMaximumTemp=None, MonthlyMinimumTemp=None, MonthlyMeanTemp=None, MonthlyAverageRH=None, MonthlyDewpointTemp=None, MonthlyWetBulbTemp=None, MonthlyAvgHeatingDegreeDays=None, MonthlyAvgCoolingDegreeDays=None, MonthlyStationPressure=None, MonthlySeaLevelPressure=None, MonthlyAverageWindSpeed=None, MonthlyTotalSnowfall=None, MonthlyDeptFromNormalMaximumTemp=None, MonthlyDeptFromNormalMinimumTemp=None, MonthlyDeptFromNormalAverageTemp=None, MonthlyDeptFromNormalPrecip=None, MonthlyTotalLiquidPrecip=None, MonthlyGreatestPrecip=None, MonthlyGreatestPrecipDate=None, MonthlyGreatestSnowfall=None, MonthlyGreatestSnowfallDate=None, MonthlyGreatestSnowDepth=None, MonthlyGreatestSnowDepthDate=None, MonthlyDaysWithGT90Temp=None, MonthlyDaysWithLT32Temp=None, MonthlyDaysWithGT32Temp=None, MonthlyDaysWithLT0Temp=None, MonthlyDaysWithGT001Precip=None, MonthlyDaysWithGT010Precip=None, MonthlyDaysWithGT1Snow=None, MonthlyMaxSeaLevelPressureValue=None, MonthlyMaxSeaLevelPressureDate=-9999, MonthlyMaxSeaLevelPressureTime=-9999, MonthlyMinSeaLevelPressureValue=None, MonthlyMinSeaLevelPressureDate=-9999, MonthlyMinSeaLevelPressureTime=-9999, MonthlyTotalHeatingDegreeDays=None, MonthlyTotalCoolingDegreeDays=None, MonthlyDeptFromNormalHeatingDD=None, MonthlyDeptFromNormalCoolingDD=None, MonthlyTotalSeasonToDateHeatingDD=None, MonthlyTotalSeasonToDateCoolingDD=None),\n",
       " Row(STATION='WBAN:94789', STATION_NAME='JFK INTERNATIONAL AIRPORT NY US', ELEVATION=3.4, LATITUDE=40.6386, LONGITUDE=-73.7622, DATE='2010-01-01 02:28', REPORTTPYE='FM-16', HOURLYSKYCONDITIONS='BKN:07 7 BKN:07 15 OVC:08 35', HOURLYVISIBILITY='5.00', HOURLYPRSENTWEATHERTYPE='-RA:02 BR:1 |RA:61 |RA:61', HOURLYDRYBULBTEMPF='34', HOURLYDRYBULBTEMPC='1.0', HOURLYWETBULBTEMPF='33', HOURLYWETBULBTEMPC='0.7', HOURLYDewPointTempF='32', HOURLYDewPointTempC='0.0', HOURLYRelativeHumidity='93', HOURLYWindSpeed='0', HOURLYWindDirection='000', HOURLYWindGustSpeed=None, HOURLYStationPressure='29.97', HOURLYPressureTendency=None, HOURLYPressureChange=None, HOURLYSeaLevelPressure=None, HOURLYPrecip='T', HOURLYAltimeterSetting='29.99', DAILYMaximumDryBulbTemp=None, DAILYMinimumDryBulbTemp=None, DAILYAverageDryBulbTemp=None, DAILYDeptFromNormalAverageTemp=None, DAILYAverageRelativeHumidity=None, DAILYAverageDewPointTemp=None, DAILYAverageWetBulbTemp=None, DAILYHeatingDegreeDays=None, DAILYCoolingDegreeDays=None, DAILYSunrise=719, DAILYSunset=1639, DAILYWeather=None, DAILYPrecip=None, DAILYSnowfall=None, DAILYSnowDepth=None, DAILYAverageStationPressure=None, DAILYAverageSeaLevelPressure=None, DAILYAverageWindSpeed=None, DAILYPeakWindSpeed=None, PeakWindDirection=None, DAILYSustainedWindSpeed=None, DAILYSustainedWindDirection=None, MonthlyMaximumTemp=None, MonthlyMinimumTemp=None, MonthlyMeanTemp=None, MonthlyAverageRH=None, MonthlyDewpointTemp=None, MonthlyWetBulbTemp=None, MonthlyAvgHeatingDegreeDays=None, MonthlyAvgCoolingDegreeDays=None, MonthlyStationPressure=None, MonthlySeaLevelPressure=None, MonthlyAverageWindSpeed=None, MonthlyTotalSnowfall=None, MonthlyDeptFromNormalMaximumTemp=None, MonthlyDeptFromNormalMinimumTemp=None, MonthlyDeptFromNormalAverageTemp=None, MonthlyDeptFromNormalPrecip=None, MonthlyTotalLiquidPrecip=None, MonthlyGreatestPrecip=None, MonthlyGreatestPrecipDate=None, MonthlyGreatestSnowfall=None, MonthlyGreatestSnowfallDate=None, MonthlyGreatestSnowDepth=None, MonthlyGreatestSnowDepthDate=None, MonthlyDaysWithGT90Temp=None, MonthlyDaysWithLT32Temp=None, MonthlyDaysWithGT32Temp=None, MonthlyDaysWithLT0Temp=None, MonthlyDaysWithGT001Precip=None, MonthlyDaysWithGT010Precip=None, MonthlyDaysWithGT1Snow=None, MonthlyMaxSeaLevelPressureValue=None, MonthlyMaxSeaLevelPressureDate=-9999, MonthlyMaxSeaLevelPressureTime=-9999, MonthlyMinSeaLevelPressureValue=None, MonthlyMinSeaLevelPressureDate=-9999, MonthlyMinSeaLevelPressureTime=-9999, MonthlyTotalHeatingDegreeDays=None, MonthlyTotalCoolingDegreeDays=None, MonthlyDeptFromNormalHeatingDD=None, MonthlyDeptFromNormalCoolingDD=None, MonthlyTotalSeasonToDateHeatingDD=None, MonthlyTotalSeasonToDateCoolingDD=None),\n",
       " Row(STATION='WBAN:94789', STATION_NAME='JFK INTERNATIONAL AIRPORT NY US', ELEVATION=3.4, LATITUDE=40.6386, LONGITUDE=-73.7622, DATE='2010-01-01 02:51', REPORTTPYE='FM-15', HOURLYSKYCONDITIONS='BKN:07 7 OVC:08 15', HOURLYVISIBILITY='5.00', HOURLYPRSENTWEATHERTYPE='-RA:02 BR:1 |RA:61 |RA:61', HOURLYDRYBULBTEMPF='33', HOURLYDRYBULBTEMPC='0.6', HOURLYWETBULBTEMPF='33', HOURLYWETBULBTEMPC='0.3', HOURLYDewPointTempF='32', HOURLYDewPointTempC='0.0', HOURLYRelativeHumidity='96', HOURLYWindSpeed='0', HOURLYWindDirection='000', HOURLYWindGustSpeed=None, HOURLYStationPressure='29.97', HOURLYPressureTendency=None, HOURLYPressureChange=None, HOURLYSeaLevelPressure='29.99', HOURLYPrecip='T', HOURLYAltimeterSetting='29.99', DAILYMaximumDryBulbTemp=None, DAILYMinimumDryBulbTemp=None, DAILYAverageDryBulbTemp=None, DAILYDeptFromNormalAverageTemp=None, DAILYAverageRelativeHumidity=None, DAILYAverageDewPointTemp=None, DAILYAverageWetBulbTemp=None, DAILYHeatingDegreeDays=None, DAILYCoolingDegreeDays=None, DAILYSunrise=719, DAILYSunset=1639, DAILYWeather=None, DAILYPrecip=None, DAILYSnowfall=None, DAILYSnowDepth=None, DAILYAverageStationPressure=None, DAILYAverageSeaLevelPressure=None, DAILYAverageWindSpeed=None, DAILYPeakWindSpeed=None, PeakWindDirection=None, DAILYSustainedWindSpeed=None, DAILYSustainedWindDirection=None, MonthlyMaximumTemp=None, MonthlyMinimumTemp=None, MonthlyMeanTemp=None, MonthlyAverageRH=None, MonthlyDewpointTemp=None, MonthlyWetBulbTemp=None, MonthlyAvgHeatingDegreeDays=None, MonthlyAvgCoolingDegreeDays=None, MonthlyStationPressure=None, MonthlySeaLevelPressure=None, MonthlyAverageWindSpeed=None, MonthlyTotalSnowfall=None, MonthlyDeptFromNormalMaximumTemp=None, MonthlyDeptFromNormalMinimumTemp=None, MonthlyDeptFromNormalAverageTemp=None, MonthlyDeptFromNormalPrecip=None, MonthlyTotalLiquidPrecip=None, MonthlyGreatestPrecip=None, MonthlyGreatestPrecipDate=None, MonthlyGreatestSnowfall=None, MonthlyGreatestSnowfallDate=None, MonthlyGreatestSnowDepth=None, MonthlyGreatestSnowDepthDate=None, MonthlyDaysWithGT90Temp=None, MonthlyDaysWithLT32Temp=None, MonthlyDaysWithGT32Temp=None, MonthlyDaysWithLT0Temp=None, MonthlyDaysWithGT001Precip=None, MonthlyDaysWithGT010Precip=None, MonthlyDaysWithGT1Snow=None, MonthlyMaxSeaLevelPressureValue=None, MonthlyMaxSeaLevelPressureDate=-9999, MonthlyMaxSeaLevelPressureTime=-9999, MonthlyMinSeaLevelPressureValue=None, MonthlyMinSeaLevelPressureDate=-9999, MonthlyMinSeaLevelPressureTime=-9999, MonthlyTotalHeatingDegreeDays=None, MonthlyTotalCoolingDegreeDays=None, MonthlyDeptFromNormalHeatingDD=None, MonthlyDeptFromNormalCoolingDD=None, MonthlyTotalSeasonToDateHeatingDD=None, MonthlyTotalSeasonToDateCoolingDD=None),\n",
       " Row(STATION='WBAN:94789', STATION_NAME='JFK INTERNATIONAL AIRPORT NY US', ELEVATION=3.4, LATITUDE=40.6386, LONGITUDE=-73.7622, DATE='2010-01-01 03:51', REPORTTPYE='FM-15', HOURLYSKYCONDITIONS='FEW:02 5 OVC:08 12', HOURLYVISIBILITY='5.00', HOURLYPRSENTWEATHERTYPE='-RA:02 BR:1 |RA:61 |RA:61', HOURLYDRYBULBTEMPF='33', HOURLYDRYBULBTEMPC='0.6', HOURLYWETBULBTEMPF='33', HOURLYWETBULBTEMPC='0.3', HOURLYDewPointTempF='32', HOURLYDewPointTempC='0.0', HOURLYRelativeHumidity='96', HOURLYWindSpeed='0', HOURLYWindDirection='000', HOURLYWindGustSpeed=None, HOURLYStationPressure='29.95', HOURLYPressureTendency=8, HOURLYPressureChange=None, HOURLYSeaLevelPressure='29.97', HOURLYPrecip='T', HOURLYAltimeterSetting='29.97', DAILYMaximumDryBulbTemp=None, DAILYMinimumDryBulbTemp=None, DAILYAverageDryBulbTemp=None, DAILYDeptFromNormalAverageTemp=None, DAILYAverageRelativeHumidity=None, DAILYAverageDewPointTemp=None, DAILYAverageWetBulbTemp=None, DAILYHeatingDegreeDays=None, DAILYCoolingDegreeDays=None, DAILYSunrise=719, DAILYSunset=1639, DAILYWeather=None, DAILYPrecip=None, DAILYSnowfall=None, DAILYSnowDepth=None, DAILYAverageStationPressure=None, DAILYAverageSeaLevelPressure=None, DAILYAverageWindSpeed=None, DAILYPeakWindSpeed=None, PeakWindDirection=None, DAILYSustainedWindSpeed=None, DAILYSustainedWindDirection=None, MonthlyMaximumTemp=None, MonthlyMinimumTemp=None, MonthlyMeanTemp=None, MonthlyAverageRH=None, MonthlyDewpointTemp=None, MonthlyWetBulbTemp=None, MonthlyAvgHeatingDegreeDays=None, MonthlyAvgCoolingDegreeDays=None, MonthlyStationPressure=None, MonthlySeaLevelPressure=None, MonthlyAverageWindSpeed=None, MonthlyTotalSnowfall=None, MonthlyDeptFromNormalMaximumTemp=None, MonthlyDeptFromNormalMinimumTemp=None, MonthlyDeptFromNormalAverageTemp=None, MonthlyDeptFromNormalPrecip=None, MonthlyTotalLiquidPrecip=None, MonthlyGreatestPrecip=None, MonthlyGreatestPrecipDate=None, MonthlyGreatestSnowfall=None, MonthlyGreatestSnowfallDate=None, MonthlyGreatestSnowDepth=None, MonthlyGreatestSnowDepthDate=None, MonthlyDaysWithGT90Temp=None, MonthlyDaysWithLT32Temp=None, MonthlyDaysWithGT32Temp=None, MonthlyDaysWithLT0Temp=None, MonthlyDaysWithGT001Precip=None, MonthlyDaysWithGT010Precip=None, MonthlyDaysWithGT1Snow=None, MonthlyMaxSeaLevelPressureValue=None, MonthlyMaxSeaLevelPressureDate=-9999, MonthlyMaxSeaLevelPressureTime=-9999, MonthlyMinSeaLevelPressureValue=None, MonthlyMinSeaLevelPressureDate=-9999, MonthlyMinSeaLevelPressureTime=-9999, MonthlyTotalHeatingDegreeDays=None, MonthlyTotalCoolingDegreeDays=None, MonthlyDeptFromNormalHeatingDD=None, MonthlyDeptFromNormalCoolingDD=None, MonthlyTotalSeasonToDateHeatingDD=None, MonthlyTotalSeasonToDateCoolingDD=None),\n",
       " Row(STATION='WBAN:94789', STATION_NAME='JFK INTERNATIONAL AIRPORT NY US', ELEVATION=3.4, LATITUDE=40.6386, LONGITUDE=-73.7622, DATE='2010-01-01 04:00', REPORTTPYE='FM-12', HOURLYSKYCONDITIONS=None, HOURLYVISIBILITY='4.97', HOURLYPRSENTWEATHERTYPE='||RA:61', HOURLYDRYBULBTEMPF='33', HOURLYDRYBULBTEMPC='0.6', HOURLYWETBULBTEMPF='33', HOURLYWETBULBTEMPC='0.3', HOURLYDewPointTempF='32', HOURLYDewPointTempC='0.0', HOURLYRelativeHumidity='96', HOURLYWindSpeed='0', HOURLYWindDirection='000', HOURLYWindGustSpeed=None, HOURLYStationPressure='29.94', HOURLYPressureTendency=8, HOURLYPressureChange='+0.03', HOURLYSeaLevelPressure='29.97', HOURLYPrecip=None, HOURLYAltimeterSetting=None, DAILYMaximumDryBulbTemp=None, DAILYMinimumDryBulbTemp=None, DAILYAverageDryBulbTemp=None, DAILYDeptFromNormalAverageTemp=None, DAILYAverageRelativeHumidity=None, DAILYAverageDewPointTemp=None, DAILYAverageWetBulbTemp=None, DAILYHeatingDegreeDays=None, DAILYCoolingDegreeDays=None, DAILYSunrise=719, DAILYSunset=1639, DAILYWeather=None, DAILYPrecip=None, DAILYSnowfall=None, DAILYSnowDepth=None, DAILYAverageStationPressure=None, DAILYAverageSeaLevelPressure=None, DAILYAverageWindSpeed=None, DAILYPeakWindSpeed=None, PeakWindDirection=None, DAILYSustainedWindSpeed=None, DAILYSustainedWindDirection=None, MonthlyMaximumTemp=None, MonthlyMinimumTemp=None, MonthlyMeanTemp=None, MonthlyAverageRH=None, MonthlyDewpointTemp=None, MonthlyWetBulbTemp=None, MonthlyAvgHeatingDegreeDays=None, MonthlyAvgCoolingDegreeDays=None, MonthlyStationPressure=None, MonthlySeaLevelPressure=None, MonthlyAverageWindSpeed=None, MonthlyTotalSnowfall=None, MonthlyDeptFromNormalMaximumTemp=None, MonthlyDeptFromNormalMinimumTemp=None, MonthlyDeptFromNormalAverageTemp=None, MonthlyDeptFromNormalPrecip=None, MonthlyTotalLiquidPrecip=None, MonthlyGreatestPrecip=None, MonthlyGreatestPrecipDate=None, MonthlyGreatestSnowfall=None, MonthlyGreatestSnowfallDate=None, MonthlyGreatestSnowDepth=None, MonthlyGreatestSnowDepthDate=None, MonthlyDaysWithGT90Temp=None, MonthlyDaysWithLT32Temp=None, MonthlyDaysWithGT32Temp=None, MonthlyDaysWithLT0Temp=None, MonthlyDaysWithGT001Precip=None, MonthlyDaysWithGT010Precip=None, MonthlyDaysWithGT1Snow=None, MonthlyMaxSeaLevelPressureValue=None, MonthlyMaxSeaLevelPressureDate=-9999, MonthlyMaxSeaLevelPressureTime=-9999, MonthlyMinSeaLevelPressureValue=None, MonthlyMinSeaLevelPressureDate=-9999, MonthlyMinSeaLevelPressureTime=-9999, MonthlyTotalHeatingDegreeDays=None, MonthlyTotalCoolingDegreeDays=None, MonthlyDeptFromNormalHeatingDD=None, MonthlyDeptFromNormalCoolingDD=None, MonthlyTotalSeasonToDateHeatingDD=None, MonthlyTotalSeasonToDateCoolingDD=None),\n",
       " Row(STATION='WBAN:94789', STATION_NAME='JFK INTERNATIONAL AIRPORT NY US', ELEVATION=3.4, LATITUDE=40.6386, LONGITUDE=-73.7622, DATE='2010-01-01 04:51', REPORTTPYE='FM-15', HOURLYSKYCONDITIONS='BKN:07 11 OVC:08 35', HOURLYVISIBILITY='5.00', HOURLYPRSENTWEATHERTYPE='-RA:02 BR:1 |RA:61 |RA:61', HOURLYDRYBULBTEMPF='33', HOURLYDRYBULBTEMPC='0.6', HOURLYWETBULBTEMPF='32', HOURLYWETBULBTEMPC='0.1', HOURLYDewPointTempF='31', HOURLYDewPointTempC='-0.6', HOURLYRelativeHumidity='92', HOURLYWindSpeed='0', HOURLYWindDirection='000', HOURLYWindGustSpeed=None, HOURLYStationPressure='29.93', HOURLYPressureTendency=None, HOURLYPressureChange=None, HOURLYSeaLevelPressure='29.96', HOURLYPrecip='T', HOURLYAltimeterSetting='29.95', DAILYMaximumDryBulbTemp=None, DAILYMinimumDryBulbTemp=None, DAILYAverageDryBulbTemp=None, DAILYDeptFromNormalAverageTemp=None, DAILYAverageRelativeHumidity=None, DAILYAverageDewPointTemp=None, DAILYAverageWetBulbTemp=None, DAILYHeatingDegreeDays=None, DAILYCoolingDegreeDays=None, DAILYSunrise=719, DAILYSunset=1639, DAILYWeather=None, DAILYPrecip=None, DAILYSnowfall=None, DAILYSnowDepth=None, DAILYAverageStationPressure=None, DAILYAverageSeaLevelPressure=None, DAILYAverageWindSpeed=None, DAILYPeakWindSpeed=None, PeakWindDirection=None, DAILYSustainedWindSpeed=None, DAILYSustainedWindDirection=None, MonthlyMaximumTemp=None, MonthlyMinimumTemp=None, MonthlyMeanTemp=None, MonthlyAverageRH=None, MonthlyDewpointTemp=None, MonthlyWetBulbTemp=None, MonthlyAvgHeatingDegreeDays=None, MonthlyAvgCoolingDegreeDays=None, MonthlyStationPressure=None, MonthlySeaLevelPressure=None, MonthlyAverageWindSpeed=None, MonthlyTotalSnowfall=None, MonthlyDeptFromNormalMaximumTemp=None, MonthlyDeptFromNormalMinimumTemp=None, MonthlyDeptFromNormalAverageTemp=None, MonthlyDeptFromNormalPrecip=None, MonthlyTotalLiquidPrecip=None, MonthlyGreatestPrecip=None, MonthlyGreatestPrecipDate=None, MonthlyGreatestSnowfall=None, MonthlyGreatestSnowfallDate=None, MonthlyGreatestSnowDepth=None, MonthlyGreatestSnowDepthDate=None, MonthlyDaysWithGT90Temp=None, MonthlyDaysWithLT32Temp=None, MonthlyDaysWithGT32Temp=None, MonthlyDaysWithLT0Temp=None, MonthlyDaysWithGT001Precip=None, MonthlyDaysWithGT010Precip=None, MonthlyDaysWithGT1Snow=None, MonthlyMaxSeaLevelPressureValue=None, MonthlyMaxSeaLevelPressureDate=-9999, MonthlyMaxSeaLevelPressureTime=-9999, MonthlyMinSeaLevelPressureValue=None, MonthlyMinSeaLevelPressureDate=-9999, MonthlyMinSeaLevelPressureTime=-9999, MonthlyTotalHeatingDegreeDays=None, MonthlyTotalCoolingDegreeDays=None, MonthlyDeptFromNormalHeatingDD=None, MonthlyDeptFromNormalCoolingDD=None, MonthlyTotalSeasonToDateHeatingDD=None, MonthlyTotalSeasonToDateCoolingDD=None),\n",
       " Row(STATION='WBAN:94789', STATION_NAME='JFK INTERNATIONAL AIRPORT NY US', ELEVATION=3.4, LATITUDE=40.6386, LONGITUDE=-73.7622, DATE='2010-01-01 05:49', REPORTTPYE='FM-16', HOURLYSKYCONDITIONS='BKN:07 9', HOURLYVISIBILITY='5.00', HOURLYPRSENTWEATHERTYPE='BR:1 ||', HOURLYDRYBULBTEMPF='34', HOURLYDRYBULBTEMPC='1.0', HOURLYWETBULBTEMPF='32', HOURLYWETBULBTEMPC='0.3', HOURLYDewPointTempF='30', HOURLYDewPointTempC='-1.0', HOURLYRelativeHumidity='87', HOURLYWindSpeed='0', HOURLYWindDirection='000', HOURLYWindGustSpeed=None, HOURLYStationPressure='29.95', HOURLYPressureTendency=None, HOURLYPressureChange=None, HOURLYSeaLevelPressure=None, HOURLYPrecip=None, HOURLYAltimeterSetting='29.97', DAILYMaximumDryBulbTemp=None, DAILYMinimumDryBulbTemp=None, DAILYAverageDryBulbTemp=None, DAILYDeptFromNormalAverageTemp=None, DAILYAverageRelativeHumidity=None, DAILYAverageDewPointTemp=None, DAILYAverageWetBulbTemp=None, DAILYHeatingDegreeDays=None, DAILYCoolingDegreeDays=None, DAILYSunrise=719, DAILYSunset=1639, DAILYWeather=None, DAILYPrecip=None, DAILYSnowfall=None, DAILYSnowDepth=None, DAILYAverageStationPressure=None, DAILYAverageSeaLevelPressure=None, DAILYAverageWindSpeed=None, DAILYPeakWindSpeed=None, PeakWindDirection=None, DAILYSustainedWindSpeed=None, DAILYSustainedWindDirection=None, MonthlyMaximumTemp=None, MonthlyMinimumTemp=None, MonthlyMeanTemp=None, MonthlyAverageRH=None, MonthlyDewpointTemp=None, MonthlyWetBulbTemp=None, MonthlyAvgHeatingDegreeDays=None, MonthlyAvgCoolingDegreeDays=None, MonthlyStationPressure=None, MonthlySeaLevelPressure=None, MonthlyAverageWindSpeed=None, MonthlyTotalSnowfall=None, MonthlyDeptFromNormalMaximumTemp=None, MonthlyDeptFromNormalMinimumTemp=None, MonthlyDeptFromNormalAverageTemp=None, MonthlyDeptFromNormalPrecip=None, MonthlyTotalLiquidPrecip=None, MonthlyGreatestPrecip=None, MonthlyGreatestPrecipDate=None, MonthlyGreatestSnowfall=None, MonthlyGreatestSnowfallDate=None, MonthlyGreatestSnowDepth=None, MonthlyGreatestSnowDepthDate=None, MonthlyDaysWithGT90Temp=None, MonthlyDaysWithLT32Temp=None, MonthlyDaysWithGT32Temp=None, MonthlyDaysWithLT0Temp=None, MonthlyDaysWithGT001Precip=None, MonthlyDaysWithGT010Precip=None, MonthlyDaysWithGT1Snow=None, MonthlyMaxSeaLevelPressureValue=None, MonthlyMaxSeaLevelPressureDate=-9999, MonthlyMaxSeaLevelPressureTime=-9999, MonthlyMinSeaLevelPressureValue=None, MonthlyMinSeaLevelPressureDate=-9999, MonthlyMinSeaLevelPressureTime=-9999, MonthlyTotalHeatingDegreeDays=None, MonthlyTotalCoolingDegreeDays=None, MonthlyDeptFromNormalHeatingDD=None, MonthlyDeptFromNormalCoolingDD=None, MonthlyTotalSeasonToDateHeatingDD=None, MonthlyTotalSeasonToDateCoolingDD=None)]"
      ]
     },
     "execution_count": 30,
     "metadata": {},
     "output_type": "execute_result"
    }
   ],
   "source": [
    "df.head(10)"
   ]
  },
  {
   "cell_type": "code",
   "execution_count": 6,
   "metadata": {},
   "outputs": [],
   "source": [
    "import random\n",
    "random.seed(42)\n",
    "\n",
    "from pyspark.sql.functions import translate, col\n",
    "\n",
    "df_cleaned = df \\\n",
    "    .withColumn(\"HOURLYWindSpeed\", df.HOURLYWindSpeed.cast('double')) \\\n",
    "    .withColumn(\"HOURLYWindDirection\", df.HOURLYWindDirection.cast('double')) \\\n",
    "    .withColumn(\"HOURLYStationPressure\", translate(col(\"HOURLYStationPressure\"), \"s,\", \"\")) \\\n",
    "    .withColumn(\"HOURLYPrecip\", translate(col(\"HOURLYPrecip\"), \"s,\", \"\")) \\\n",
    "    .withColumn(\"HOURLYRelativeHumidity\", translate(col(\"HOURLYRelativeHumidity\"), \"*\", \"\")) \\\n",
    "    .withColumn(\"HOURLYDRYBULBTEMPC\", translate(col(\"HOURLYDRYBULBTEMPC\"), \"*\", \"\")) \\\n",
    "\n",
    "df_cleaned =   df_cleaned \\\n",
    "                    .withColumn(\"HOURLYStationPressure\", df_cleaned.HOURLYStationPressure.cast('double')) \\\n",
    "                    .withColumn(\"HOURLYPrecip\", df_cleaned.HOURLYPrecip.cast('double')) \\\n",
    "                    .withColumn(\"HOURLYRelativeHumidity\", df_cleaned.HOURLYRelativeHumidity.cast('double')) \\\n",
    "                    .withColumn(\"HOURLYDRYBULBTEMPC\", df_cleaned.HOURLYDRYBULBTEMPC.cast('double')) \\\n",
    "\n",
    "df_filtered = df_cleaned.filter(\"\"\"\n",
    "    HOURLYWindSpeed <> 0\n",
    "    and HOURLYWindSpeed IS NOT NULL\n",
    "    and HOURLYWindDirection IS NOT NULL\n",
    "    and HOURLYStationPressure IS NOT NULL\n",
    "    and HOURLYPressureTendency IS NOT NULL\n",
    "    and HOURLYPrecip IS NOT NULL\n",
    "    and HOURLYRelativeHumidity IS NOT NULL\n",
    "    and HOURLYDRYBULBTEMPC IS NOT NULL\n",
    "\"\"\")"
   ]
  },
  {
   "cell_type": "code",
   "execution_count": 22,
   "metadata": {},
   "outputs": [],
   "source": [
    "df_cleaned1 = df \\\n",
    "    .withColumn(\"HOURLYWindSpeed\", df.HOURLYWindSpeed.cast('double')) \\\n",
    "    .withColumn(\"HOURLYWindDirection\", df.HOURLYWindDirection.cast('double')) \\\n",
    "    .withColumn(\"HOURLYStationPressure\", translate(col(\"HOURLYStationPressure\"), \"s,\", \"\")) \\\n",
    "    .withColumn(\"HOURLYPrecip\", translate(col(\"HOURLYPrecip\"), \"s,\", \"\")) \\\n",
    "    .withColumn(\"HOURLYRelativeHumidity\", translate(col(\"HOURLYRelativeHumidity\"), \"*\", \"\")) \\\n",
    "    .withColumn(\"HOURLYDRYBULBTEMPC\", translate(col(\"HOURLYDRYBULBTEMPC\"), \"*\", \"\")) \\\n",
    "    .withColumn(\"HOURLYPressureTendency\", translate(col(\"HOURLYPressureTendency\"), \"*\", \"\")) \\\n",
    "\n",
    "\n",
    "\n",
    "df_cleaned1 =   df_cleaned1 \\\n",
    "                    .withColumn(\"HOURLYStationPressure\", df_cleaned1.HOURLYStationPressure.cast('double')) \\\n",
    "                    .withColumn(\"HOURLYPrecip\", df_cleaned1.HOURLYPrecip.cast('double')) \\\n",
    "                    .withColumn(\"HOURLYRelativeHumidity\", df_cleaned1.HOURLYRelativeHumidity.cast('double')) \\\n",
    "                    .withColumn(\"HOURLYDRYBULBTEMPC\", df_cleaned1.HOURLYDRYBULBTEMPC.cast('double')) \\\n",
    "                    .withColumn(\"HOURLYPressureTendency\", df_cleaned1.HOURLYPressureTendency.cast('double')) \\\n",
    "\n",
    "df_filtered1 = df_cleaned1.filter(\"\"\"\n",
    "    HOURLYWindSpeed <> 0\n",
    "    and HOURLYWindSpeed IS NOT NULL\n",
    "    and HOURLYWindDirection IS NOT NULL\n",
    "    and HOURLYStationPressure IS NOT NULL\n",
    "    and HOURLYPressureTendency IS NOT NULL\n",
    "    and HOURLYPrecip IS NOT NULL\n",
    "    and HOURLYRelativeHumidity IS NOT NULL\n",
    "    and HOURLYDRYBULBTEMPC IS NOT NULL\n",
    "    and HOURLYPressureTendency IS NOT NULL\n",
    "\"\"\")"
   ]
  },
  {
   "cell_type": "markdown",
   "metadata": {},
   "source": [
    "We want to predict the value of one column based of some others. It is sometimes helpful to print a correlation matrix. "
   ]
  },
  {
   "cell_type": "code",
   "execution_count": 7,
   "metadata": {},
   "outputs": [
    {
     "data": {
      "text/plain": [
       "array([[ 1.        ,  0.25478863, -0.26171147],\n",
       "       [ 0.25478863,  1.        , -0.13377466],\n",
       "       [-0.26171147, -0.13377466,  1.        ]])"
      ]
     },
     "execution_count": 7,
     "metadata": {},
     "output_type": "execute_result"
    }
   ],
   "source": [
    "from pyspark.ml.feature import VectorAssembler\n",
    "vectorAssembler = VectorAssembler(inputCols=[\"HOURLYWindSpeed\",\"HOURLYWindDirection\",\"HOURLYStationPressure\"],\n",
    "                                  outputCol=\"features\")\n",
    "df_pipeline = vectorAssembler.transform(df_filtered)\n",
    "from pyspark.ml.stat import Correlation\n",
    "Correlation.corr(df_pipeline,\"features\").head()[0].toArray()"
   ]
  },
  {
   "cell_type": "code",
   "execution_count": 25,
   "metadata": {},
   "outputs": [
    {
     "data": {
      "text/plain": [
       "array([[ 1.        , -0.01324305],\n",
       "       [-0.01324305,  1.        ]])"
      ]
     },
     "execution_count": 25,
     "metadata": {},
     "output_type": "execute_result"
    }
   ],
   "source": [
    "\n",
    "vectorAssembler1 = VectorAssembler(inputCols=[\"HOURLYWindSpeed\",\"HOURLYPressureTendency\"],\n",
    "                                  outputCol=\"features\")\n",
    "df_pipeline1 = vectorAssembler1.transform(df_filtered1)\n",
    "\n",
    "Correlation.corr(df_pipeline1,\"features\").head()[0].toArray()"
   ]
  },
  {
   "cell_type": "markdown",
   "metadata": {},
   "source": [
    "As we can see, HOURLYWindSpeed and HOURLYWindDirection correlate with 0.25478863 whereas HOURLYWindSpeed  and HOURLYStationPressure correlate with -0.26171147, this is a good sign if we want to predict HOURLYWindSpeed from HOURLYWindDirection and HOURLYStationPressure. Note that the numbers can change over time as we are always working with the latest data.\n",
    "Since this is supervised learning, let’s split our data into train (80%) and test (20%) set."
   ]
  },
  {
   "cell_type": "code",
   "execution_count": 8,
   "metadata": {},
   "outputs": [],
   "source": [
    "splits = df_filtered.randomSplit([0.8, 0.2])\n",
    "df_train = splits[0]\n",
    "df_test = splits[1]"
   ]
  },
  {
   "cell_type": "markdown",
   "metadata": {},
   "source": [
    "Again, we can re-use our feature engineering pipeline"
   ]
  },
  {
   "cell_type": "code",
   "execution_count": 9,
   "metadata": {},
   "outputs": [],
   "source": [
    "from pyspark.ml.feature import StringIndexer, OneHotEncoder\n",
    "from pyspark.ml.linalg import Vectors\n",
    "from pyspark.ml.feature import VectorAssembler\n",
    "from pyspark.ml.feature import Normalizer\n",
    "from pyspark.ml import Pipeline\n",
    "\n",
    "vectorAssembler = VectorAssembler(inputCols=[\n",
    "                                    \"HOURLYWindDirection\",\n",
    "                                    \"ELEVATION\",\n",
    "                                    \"HOURLYStationPressure\"],\n",
    "                                  outputCol=\"features\")\n",
    "\n",
    "normalizer = Normalizer(inputCol=\"features\", outputCol=\"features_norm\", p=1.0)"
   ]
  },
  {
   "cell_type": "markdown",
   "metadata": {},
   "source": [
    "Now we define a function for evaluating our regression prediction performance. We’re using RMSE (Root Mean Squared Error) here , the smaller the better…\n",
    "\n"
   ]
  },
  {
   "cell_type": "code",
   "execution_count": 10,
   "metadata": {},
   "outputs": [],
   "source": [
    "def regression_metrics(prediction):\n",
    "    from pyspark.ml.evaluation import RegressionEvaluator\n",
    "    evaluator = RegressionEvaluator(\n",
    "    labelCol=\"HOURLYWindSpeed\", predictionCol=\"prediction\", metricName=\"rmse\")\n",
    "    rmse = evaluator.evaluate(prediction)\n",
    "    print(\"RMSE on test data = %g\" % rmse)"
   ]
  },
  {
   "cell_type": "markdown",
   "metadata": {},
   "source": [
    "Let’s run a linear regression model first for building a baseline.\n",
    "\n"
   ]
  },
  {
   "cell_type": "code",
   "execution_count": 11,
   "metadata": {},
   "outputs": [
    {
     "name": "stdout",
     "output_type": "stream",
     "text": [
      "RMSE on test data = 5.40309\n"
     ]
    }
   ],
   "source": [
    "#LR1\n",
    "\n",
    "from pyspark.ml.regression import LinearRegression\n",
    "\n",
    "\n",
    "lr = LinearRegression(labelCol=\"HOURLYWindSpeed\", featuresCol='features', maxIter=100, regParam=0.0, elasticNetParam=0.0)\n",
    "pipeline = Pipeline(stages=[vectorAssembler, normalizer,lr])\n",
    "model = pipeline.fit(df_train)\n",
    "prediction = model.transform(df_test)\n",
    "regression_metrics(prediction)"
   ]
  },
  {
   "cell_type": "code",
   "execution_count": 26,
   "metadata": {},
   "outputs": [
    {
     "name": "stdout",
     "output_type": "stream",
     "text": [
      "RMSE on test data = 0.928803\n"
     ]
    }
   ],
   "source": [
    "#LR1\n",
    "\n",
    "from pyspark.ml.regression import LinearRegression\n",
    "\n",
    "\n",
    "lr = LinearRegression(labelCol=\"HOURLYWindSpeed\", featuresCol='features_norm', maxIter=100, regParam=0.0, elasticNetParam=0.0)\n",
    "pipeline = Pipeline(stages=[vectorAssembler, normalizer,lr])\n",
    "model = pipeline.fit(df_train)\n",
    "prediction = model.transform(df_test)\n",
    "regression_metrics(prediction)"
   ]
  },
  {
   "cell_type": "markdown",
   "metadata": {},
   "source": [
    "Now we’ll try a Gradient Boosted Tree Regressor"
   ]
  },
  {
   "cell_type": "code",
   "execution_count": 12,
   "metadata": {},
   "outputs": [
    {
     "name": "stdout",
     "output_type": "stream",
     "text": [
      "RMSE on test data = 5.17321\n"
     ]
    }
   ],
   "source": [
    "#GBT1\n",
    "\n",
    "from pyspark.ml.regression import GBTRegressor\n",
    "gbt = GBTRegressor(labelCol=\"HOURLYWindSpeed\", maxIter=100)\n",
    "pipeline = Pipeline(stages=[vectorAssembler, normalizer,gbt])\n",
    "model = pipeline.fit(df_train)\n",
    "prediction = model.transform(df_test)\n",
    "regression_metrics(prediction)"
   ]
  },
  {
   "cell_type": "markdown",
   "metadata": {},
   "source": [
    "Now let’s switch gears. Previously, we tried to predict HOURLYWindSpeed, but now we predict HOURLYWindDirection. In order to turn this into a classification problem we discretize the value using the Bucketizer. The new feature is called HOURLYWindDirectionBucketized."
   ]
  },
  {
   "cell_type": "code",
   "execution_count": 13,
   "metadata": {},
   "outputs": [],
   "source": [
    "from pyspark.ml.feature import Bucketizer, OneHotEncoder\n",
    "bucketizer = Bucketizer(splits=[ 0, 180, float('Inf') ],inputCol=\"HOURLYWindDirection\", outputCol=\"HOURLYWindDirectionBucketized\")\n",
    "encoder = OneHotEncoder(inputCol=\"HOURLYWindDirectionBucketized\", outputCol=\"HOURLYWindDirectionOHE\")\n"
   ]
  },
  {
   "cell_type": "markdown",
   "metadata": {},
   "source": [
    "Again, we define a function in order to assess how we perform. Here we just use the accuracy measure which gives us the fraction of correctly classified examples. Again, 0 is bad, 1 is good."
   ]
  },
  {
   "cell_type": "code",
   "execution_count": 14,
   "metadata": {},
   "outputs": [],
   "source": [
    "def classification_metrics(prediction):\n",
    "    from pyspark.ml.evaluation import MulticlassClassificationEvaluator\n",
    "    mcEval = MulticlassClassificationEvaluator().setMetricName(\"accuracy\") .setPredictionCol(\"prediction\").setLabelCol(\"HOURLYWindDirectionBucketized\")\n",
    "    accuracy = mcEval.evaluate(prediction)\n",
    "    print(\"Accuracy on test data = %g\" % accuracy)"
   ]
  },
  {
   "cell_type": "markdown",
   "metadata": {},
   "source": [
    "Again, for baselining we use LogisticRegression."
   ]
  },
  {
   "cell_type": "code",
   "execution_count": 15,
   "metadata": {},
   "outputs": [
    {
     "name": "stdout",
     "output_type": "stream",
     "text": [
      "Accuracy on test data = 0.689773\n"
     ]
    }
   ],
   "source": [
    "#LGReg1\n",
    "\n",
    "from pyspark.ml.classification import LogisticRegression\n",
    "lr = LogisticRegression(labelCol=\"HOURLYWindDirectionBucketized\", maxIter=10)\n",
    "#,\"ELEVATION\",\"HOURLYStationPressure\",\"HOURLYPressureTendency\",\"HOURLYPrecip\"\n",
    "\n",
    "vectorAssembler = VectorAssembler(inputCols=[\"HOURLYWindSpeed\",\"HOURLYDRYBULBTEMPC\"],\n",
    "                                  outputCol=\"features\")\n",
    "\n",
    "pipeline = Pipeline(stages=[bucketizer,vectorAssembler,normalizer,lr])\n",
    "model = pipeline.fit(df_train)\n",
    "prediction = model.transform(df_test)\n",
    "classification_metrics(prediction)"
   ]
  },
  {
   "cell_type": "markdown",
   "metadata": {},
   "source": [
    "Let’s try some other Algorithms and see if model performance increases. It’s also important to tweak other parameters like parameters of individual algorithms (e.g. number of trees for RandomForest) or parameters in the feature engineering pipeline, e.g. train/test split ratio, normalization, bucketing, …"
   ]
  },
  {
   "cell_type": "code",
   "execution_count": 28,
   "metadata": {},
   "outputs": [
    {
     "name": "stdout",
     "output_type": "stream",
     "text": [
      "Accuracy on test data = 0.716591\n"
     ]
    }
   ],
   "source": [
    "#RF1\n",
    "\n",
    "from pyspark.ml.classification import RandomForestClassifier\n",
    "rf = RandomForestClassifier(labelCol=\"HOURLYWindDirectionBucketized\", numTrees=30)\n",
    "\n",
    "vectorAssembler = VectorAssembler(inputCols=[\"HOURLYWindSpeed\",\"HOURLYDRYBULBTEMPC\",\"ELEVATION\",\"HOURLYStationPressure\",\"HOURLYPressureTendency\",\"HOURLYPrecip\"],\n",
    "                                  outputCol=\"features\")\n",
    "\n",
    "pipeline = Pipeline(stages=[bucketizer,vectorAssembler,normalizer,rf])\n",
    "model = pipeline.fit(df_train)\n",
    "prediction = model.transform(df_test)\n",
    "classification_metrics(prediction)"
   ]
  },
  {
   "cell_type": "code",
   "execution_count": 17,
   "metadata": {},
   "outputs": [
    {
     "name": "stdout",
     "output_type": "stream",
     "text": [
      "Accuracy on test data = 0.718409\n"
     ]
    }
   ],
   "source": [
    "#GBT2\n",
    "\n",
    "from pyspark.ml.classification import GBTClassifier\n",
    "gbt = GBTClassifier(labelCol=\"HOURLYWindDirectionBucketized\", maxIter=100)\n",
    "\n",
    "vectorAssembler = VectorAssembler(inputCols=[\"HOURLYWindSpeed\",\"HOURLYDRYBULBTEMPC\",\"ELEVATION\",\"HOURLYStationPressure\",\"HOURLYPressureTendency\",\"HOURLYPrecip\"],\n",
    "                                  outputCol=\"features\")\n",
    "\n",
    "pipeline = Pipeline(stages=[bucketizer,vectorAssembler,normalizer,gbt])\n",
    "model = pipeline.fit(df_train)\n",
    "prediction = model.transform(df_test)\n",
    "classification_metrics(prediction)"
   ]
  },
  {
   "cell_type": "code",
   "execution_count": null,
   "metadata": {},
   "outputs": [],
   "source": []
  }
 ],
 "metadata": {
  "kernelspec": {
   "display_name": "Python 3",
   "language": "python",
   "name": "python3"
  },
  "language_info": {
   "codemirror_mode": {
    "name": "ipython",
    "version": 3
   },
   "file_extension": ".py",
   "mimetype": "text/x-python",
   "name": "python",
   "nbconvert_exporter": "python",
   "pygments_lexer": "ipython3",
   "version": "3.7.4"
  }
 },
 "nbformat": 4,
 "nbformat_minor": 1
}
